{
 "cells": [
  {
   "cell_type": "code",
   "execution_count": 1,
   "metadata": {},
   "outputs": [],
   "source": [
    "import numpy as np\n",
    "import matplotlib.pyplot as plt\n",
    "import pandas as pd"
   ]
  },
  {
   "cell_type": "code",
   "execution_count": 2,
   "metadata": {},
   "outputs": [],
   "source": [
    "dataset = pd.read_csv('Data.csv')\n",
    "x = dataset.iloc[:, :-1].values\n",
    "y = dataset.iloc[:, -1].values"
   ]
  },
  {
   "cell_type": "code",
   "execution_count": 3,
   "metadata": {},
   "outputs": [
    {
     "name": "stdout",
     "output_type": "stream",
     "text": [
      "[['France' 44.0 72000.0]\n",
      " ['Spain' 27.0 48000.0]\n",
      " ['Germany' 30.0 54000.0]\n",
      " ['English' 38.0 61000.0]\n",
      " ['Germany' 40.0 nan]\n",
      " ['France' 35.0 58000.0]\n",
      " ['Spain' nan 52000.0]\n",
      " ['France' 48.0 79000.0]\n",
      " ['Germany' 50.0 83000.0]\n",
      " ['France' 37.0 67000.0]\n",
      " ['English' 21.0 24000.0]\n",
      " ['Spain' nan nan]\n",
      " ['Spain' 28.0 52000.0]\n",
      " ['France' 25.0 32000.0]\n",
      " ['Indonesia' 21.0 12000.0]\n",
      " ['Indonesia' 43.0 21000.0]\n",
      " ['Indonesia' 57.0 26000.0]\n",
      " ['Germany' 27.0 43000.0]\n",
      " [nan nan 52000.0]]\n"
     ]
    }
   ],
   "source": [
    "print(x)"
   ]
  },
  {
   "cell_type": "code",
   "execution_count": 4,
   "metadata": {},
   "outputs": [
    {
     "name": "stdout",
     "output_type": "stream",
     "text": [
      "['Yes' 'Yes' 'No' 'No' 'Yes' 'No' 'No' 'Yes' 'No' 'Yes' 'Yes' 'No' 'Yes'\n",
      " 'No' 'No' 'Yes' 'Yes' 'No' 'Yes']\n"
     ]
    }
   ],
   "source": [
    "print(y)"
   ]
  },
  {
   "cell_type": "code",
   "execution_count": 5,
   "metadata": {},
   "outputs": [
    {
     "name": "stdout",
     "output_type": "stream",
     "text": [
      "[['France' 44.0 72000.0]\n",
      " ['Spain' 27.0 48000.0]\n",
      " ['Germany' 30.0 54000.0]\n",
      " ['English' 38.0 61000.0]\n",
      " ['Germany' 40.0 nan]\n",
      " ['France' 35.0 58000.0]\n",
      " ['Spain' nan 52000.0]\n",
      " ['France' 48.0 79000.0]\n",
      " ['Germany' 50.0 83000.0]\n",
      " ['France' 37.0 67000.0]\n",
      " ['English' 21.0 24000.0]\n",
      " ['Spain' nan nan]\n",
      " ['Spain' 28.0 52000.0]\n",
      " ['France' 25.0 32000.0]\n",
      " ['Indonesia' 21.0 12000.0]\n",
      " ['Indonesia' 43.0 21000.0]\n",
      " ['Indonesia' 57.0 26000.0]\n",
      " ['Germany' 27.0 43000.0]\n",
      " [nan nan 52000.0]]\n"
     ]
    }
   ],
   "source": [
    "print(x)"
   ]
  },
  {
   "cell_type": "code",
   "execution_count": 6,
   "metadata": {},
   "outputs": [],
   "source": [
    "from sklearn.compose import ColumnTransformer\n",
    "from sklearn.preprocessing import OneHotEncoder ##pengubahan dari nominal ke numerik\n",
    "ct = ColumnTransformer(transformers=[('encoder', OneHotEncoder(), [0])], remainder='passthrough') \n",
    "x = np.array(ct.fit_transform(x))"
   ]
  },
  {
   "cell_type": "code",
   "execution_count": 7,
   "metadata": {},
   "outputs": [
    {
     "name": "stdout",
     "output_type": "stream",
     "text": [
      "[[0.0 1.0 0.0 0.0 0.0 0.0 44.0 72000.0]\n",
      " [0.0 0.0 0.0 0.0 1.0 0.0 27.0 48000.0]\n",
      " [0.0 0.0 1.0 0.0 0.0 0.0 30.0 54000.0]\n",
      " [1.0 0.0 0.0 0.0 0.0 0.0 38.0 61000.0]\n",
      " [0.0 0.0 1.0 0.0 0.0 0.0 40.0 nan]\n",
      " [0.0 1.0 0.0 0.0 0.0 0.0 35.0 58000.0]\n",
      " [0.0 0.0 0.0 0.0 1.0 0.0 nan 52000.0]\n",
      " [0.0 1.0 0.0 0.0 0.0 0.0 48.0 79000.0]\n",
      " [0.0 0.0 1.0 0.0 0.0 0.0 50.0 83000.0]\n",
      " [0.0 1.0 0.0 0.0 0.0 0.0 37.0 67000.0]\n",
      " [1.0 0.0 0.0 0.0 0.0 0.0 21.0 24000.0]\n",
      " [0.0 0.0 0.0 0.0 1.0 0.0 nan nan]\n",
      " [0.0 0.0 0.0 0.0 1.0 0.0 28.0 52000.0]\n",
      " [0.0 1.0 0.0 0.0 0.0 0.0 25.0 32000.0]\n",
      " [0.0 0.0 0.0 1.0 0.0 0.0 21.0 12000.0]\n",
      " [0.0 0.0 0.0 1.0 0.0 0.0 43.0 21000.0]\n",
      " [0.0 0.0 0.0 1.0 0.0 0.0 57.0 26000.0]\n",
      " [0.0 0.0 1.0 0.0 0.0 0.0 27.0 43000.0]\n",
      " [0.0 0.0 0.0 0.0 0.0 1.0 nan 52000.0]]\n"
     ]
    }
   ],
   "source": [
    "print(x)"
   ]
  },
  {
   "cell_type": "code",
   "execution_count": 8,
   "metadata": {},
   "outputs": [],
   "source": [
    "from sklearn.preprocessing import LabelEncoder\n",
    "le = LabelEncoder()\n",
    "y = le.fit_transform(y)"
   ]
  },
  {
   "cell_type": "code",
   "execution_count": 9,
   "metadata": {},
   "outputs": [
    {
     "name": "stdout",
     "output_type": "stream",
     "text": [
      "[1 1 0 0 1 0 0 1 0 1 1 0 1 0 0 1 1 0 1]\n"
     ]
    }
   ],
   "source": [
    "print(y)"
   ]
  },
  {
   "cell_type": "code",
   "execution_count": 10,
   "metadata": {},
   "outputs": [],
   "source": [
    "from sklearn.model_selection import train_test_split\n",
    "x_train, x_test, y_train, y_test = train_test_split(x, y, test_size=0.2, random_state=1) ##80 20 perbandingannya"
   ]
  },
  {
   "cell_type": "code",
   "execution_count": 11,
   "metadata": {},
   "outputs": [
    {
     "name": "stdout",
     "output_type": "stream",
     "text": [
      "[[0.0 0.0 1.0 0.0 0.0 0.0 30.0 54000.0]\n",
      " [0.0 0.0 0.0 1.0 0.0 0.0 21.0 12000.0]\n",
      " [0.0 0.0 1.0 0.0 0.0 0.0 40.0 nan]\n",
      " [0.0 0.0 0.0 1.0 0.0 0.0 57.0 26000.0]\n",
      " [0.0 1.0 0.0 0.0 0.0 0.0 48.0 79000.0]\n",
      " [0.0 0.0 0.0 0.0 1.0 0.0 27.0 48000.0]\n",
      " [0.0 1.0 0.0 0.0 0.0 0.0 25.0 32000.0]\n",
      " [0.0 1.0 0.0 0.0 0.0 0.0 44.0 72000.0]\n",
      " [0.0 0.0 0.0 0.0 0.0 1.0 nan 52000.0]\n",
      " [0.0 0.0 1.0 0.0 0.0 0.0 27.0 43000.0]\n",
      " [0.0 1.0 0.0 0.0 0.0 0.0 37.0 67000.0]\n",
      " [0.0 0.0 1.0 0.0 0.0 0.0 50.0 83000.0]\n",
      " [0.0 0.0 0.0 0.0 1.0 0.0 28.0 52000.0]\n",
      " [0.0 0.0 0.0 0.0 1.0 0.0 nan nan]\n",
      " [0.0 1.0 0.0 0.0 0.0 0.0 35.0 58000.0]]\n"
     ]
    }
   ],
   "source": [
    "print(x_train)"
   ]
  },
  {
   "cell_type": "code",
   "execution_count": 12,
   "metadata": {},
   "outputs": [
    {
     "name": "stdout",
     "output_type": "stream",
     "text": [
      "[[1.0 0.0 0.0 0.0 0.0 0.0 38.0 61000.0]\n",
      " [0.0 0.0 0.0 1.0 0.0 0.0 43.0 21000.0]\n",
      " [0.0 0.0 0.0 0.0 1.0 0.0 nan 52000.0]\n",
      " [1.0 0.0 0.0 0.0 0.0 0.0 21.0 24000.0]]\n"
     ]
    }
   ],
   "source": [
    "print(x_test)"
   ]
  },
  {
   "cell_type": "code",
   "execution_count": 13,
   "metadata": {},
   "outputs": [
    {
     "name": "stdout",
     "output_type": "stream",
     "text": [
      "[0 0 1 1 1 1 0 1 1 0 1 0 1 0 0]\n"
     ]
    }
   ],
   "source": [
    "print(y_train)"
   ]
  },
  {
   "cell_type": "code",
   "execution_count": 14,
   "metadata": {},
   "outputs": [
    {
     "name": "stdout",
     "output_type": "stream",
     "text": [
      "[0 1 0 1]\n"
     ]
    }
   ],
   "source": [
    "print(y_test)"
   ]
  },
  {
   "cell_type": "code",
   "execution_count": 15,
   "metadata": {},
   "outputs": [],
   "source": [
    "from sklearn.preprocessing import StandardScaler\n",
    "sc = StandardScaler()\n",
    "x_train[:, 3:] = sc.fit_transform(x_train[:, 3:]) ## mulai ketiga sampai selesai\n",
    "x_test[:, 3:] = sc.transform(x_test[:, 3:])"
   ]
  },
  {
   "cell_type": "code",
   "execution_count": 16,
   "metadata": {},
   "outputs": [
    {
     "name": "stdout",
     "output_type": "stream",
     "text": [
      "[[0.0 0.0 1.0 -0.3922322702763682 -0.5 -0.26726124191242434\n",
      "  -0.571295014798562 0.0929562482375909]\n",
      " [0.0 0.0 0.0 2.5495097567963936 -0.5 -0.26726124191242434\n",
      "  -1.4173901632976977 -2.0217983991676047]\n",
      " [0.0 0.0 1.0 -0.3922322702763682 -0.5 -0.26726124191242434\n",
      "  0.3688107057560332 nan]\n",
      " [0.0 0.0 0.0 2.5495097567963936 -0.5 -0.26726124191242434\n",
      "  1.966990430698845 -1.3168801833658728]\n",
      " [0.0 1.0 0.0 -0.3922322702763682 -0.5 -0.26726124191242434\n",
      "  1.1208952821997094 1.351738776454969]\n",
      " [0.0 0.0 0.0 -0.3922322702763682 2.0 -0.26726124191242434\n",
      "  -0.8533267309649405 -0.20915155853457987]\n",
      " [0.0 1.0 0.0 -0.3922322702763682 -0.5 -0.26726124191242434\n",
      "  -1.0413478750758596 -1.014772376593702]\n",
      " [0.0 1.0 0.0 -0.3922322702763682 -0.5 -0.26726124191242434\n",
      "  0.7448529939778713 0.9992796685541032]\n",
      " [0.0 0.0 0.0 -0.3922322702763682 -0.5 3.741657386773941 nan\n",
      "  -0.007746354019799363]\n",
      " [0.0 0.0 1.0 -0.3922322702763682 -0.5 -0.26726124191242434\n",
      "  -0.8533267309649405 -0.4609080641780555]\n",
      " [0.0 1.0 0.0 -0.3922322702763682 -0.5 -0.26726124191242434\n",
      "  0.08677898958965463 0.7475231629106276]\n",
      " [0.0 0.0 1.0 -0.3922322702763682 -0.5 -0.26726124191242434\n",
      "  1.3089164263106283 1.5531439809697496]\n",
      " [0.0 0.0 0.0 -0.3922322702763682 2.0 -0.26726124191242434\n",
      "  -0.759316158909481 -0.007746354019799363]\n",
      " [0.0 0.0 0.0 -0.3922322702763682 2.0 -0.26726124191242434 nan nan]\n",
      " [0.0 1.0 0.0 -0.3922322702763682 -0.5 -0.26726124191242434\n",
      "  -0.10124215452126441 0.2943614527523714]]\n"
     ]
    }
   ],
   "source": [
    "print(x_train)"
   ]
  },
  {
   "cell_type": "code",
   "execution_count": 17,
   "metadata": {},
   "outputs": [
    {
     "name": "stdout",
     "output_type": "stream",
     "text": [
      "[[1.0 0.0 0.0 -0.3922322702763682 -0.5 -0.26726124191242434\n",
      "  0.18078956164511414 0.4454153561384568]\n",
      " [0.0 0.0 0.0 2.5495097567963936 -0.5 -0.26726124191242434\n",
      "  0.6508424219224117 -1.5686366890093484]\n",
      " [0.0 0.0 0.0 -0.3922322702763682 2.0 -0.26726124191242434 nan\n",
      "  -0.007746354019799363]\n",
      " [1.0 0.0 0.0 -0.3922322702763682 -0.5 -0.26726124191242434\n",
      "  -1.4173901632976977 -1.417582785623263]]\n"
     ]
    }
   ],
   "source": [
    "print(x_test) "
   ]
  }
 ],
 "metadata": {
  "kernelspec": {
   "display_name": "Python 3",
   "language": "python",
   "name": "python3"
  },
  "language_info": {
   "codemirror_mode": {
    "name": "ipython",
    "version": 3
   },
   "file_extension": ".py",
   "mimetype": "text/x-python",
   "name": "python",
   "nbconvert_exporter": "python",
   "pygments_lexer": "ipython3",
   "version": "3.11.2"
  },
  "orig_nbformat": 4
 },
 "nbformat": 4,
 "nbformat_minor": 2
}
